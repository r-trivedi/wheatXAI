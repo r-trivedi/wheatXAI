{
 "cells": [
  {
   "cell_type": "code",
   "execution_count": 1,
   "id": "c771469d-692e-48e4-9088-985d3eeb85e1",
   "metadata": {},
   "outputs": [],
   "source": [
    "import os\n",
    "import numpy as np\n",
    "import pandas as pd\n",
    "import cv2\n",
    "import tensorflow as tf\n",
    "import sklearn as skl\n",
    "from tensorflow import keras\n",
    "from tensorflow.keras import layers"
   ]
  },
  {
   "cell_type": "code",
   "execution_count": 2,
   "id": "c397af31-77a8-4ede-a8c7-e7b385597f27",
   "metadata": {},
   "outputs": [],
   "source": [
    "def load_snp_csv(snp_file):\n",
    "        df = pd.read_csv(snp_file, index_col=0)  # GIDs are row indices\n",
    "        df = df.astype(float)  # Ensure numerical values\n",
    "        return df\n",
    "\n",
    "class MultiModalDataGenerator(tf.keras.utils.Sequence):\n",
    "    def __init__(self, dataframe, image_path, geno_feature_cols, batch_size=32, shuffle=True):\n",
    "        self.df = dataframe.reset_index(drop=True)\n",
    "        self.image_path = image_path\n",
    "        self.geno_feature_cols = geno_feature_cols\n",
    "        self.batch_size = batch_size\n",
    "        self.shuffle = shuffle\n",
    "        self.on_epoch_end()\n",
    "\n",
    "    def __len__(self):\n",
    "        return int(np.ceil(len(self.df) / self.batch_size))\n",
    "\n",
    "    def __getitem__(self, index):\n",
    "        batch_df = self.df.iloc[index * self.batch_size : (index + 1) * self.batch_size]\n",
    "        \n",
    "        X_img = []\n",
    "        X_geno = []\n",
    "        Y = []\n",
    "        \n",
    "        for _, row in batch_df.iterrows():\n",
    "            # Load image\n",
    "            img = np.load(os.path.join(self.image_path, row['Filename']))\n",
    "            X_img.append(img)\n",
    "\n",
    "            # Genomic features\n",
    "            geno = row[self.geno_feature_cols].values.astype(np.float32)\n",
    "            X_geno.append(geno)\n",
    "\n",
    "            # Yield\n",
    "            Y.append(row['GRYLD'])\n",
    "\n",
    "        return [np.array(X_img), np.array(X_geno)], np.array(Y)\n",
    "\n",
    "    def on_epoch_end(self):\n",
    "        if self.shuffle:\n",
    "            self.df = self.df.sample(frac=1).reset_index(drop=True)"
   ]
  },
  {
   "cell_type": "code",
   "execution_count": 3,
   "id": "f47499b8-3963-4bad-a675-7342576eb8aa",
   "metadata": {},
   "outputs": [],
   "source": [
    "geno_df = load_snp_csv(\"SNPs_phased_reduced.csv\")"
   ]
  },
  {
   "cell_type": "code",
   "execution_count": 4,
   "id": "a0443d22-1b16-49f5-a9c8-beed19678034",
   "metadata": {},
   "outputs": [],
   "source": [
    "csv_path = \"/scratch/pawsey1157/rtrivedi/dataset/Phenotypes/Images_GIDs_GRYLD.csv\"\n",
    "img_df = pd.read_csv(csv_path, header=None, names=['Filename', 'GID', 'GRYLD'])"
   ]
  },
  {
   "cell_type": "code",
   "execution_count": 5,
   "id": "24dba730-2fad-47a0-a0bd-bb7fc7b5b662",
   "metadata": {},
   "outputs": [],
   "source": [
    "# Load data\n",
    "#geno_df = pd.read_csv('SNPs_phased_reduced.csv')\n",
    "#img_df = pd.read_csv('Images_GIDs_GRYLD.csv')\n",
    "merged_df = pd.merge(img_df, geno_df, on='GID')\n",
    "merged_df = merged_df.dropna(subset=['GRYLD'])\n",
    "\n",
    "# Define genomic columns\n",
    "geno_feature_cols = [col for col in geno_df.columns if col != 'GID']\n",
    "image_path = \"/scratch/pawsey1157/rtrivedi/dataset/Phenotypes/stacked_npy/\"\n",
    "\n",
    "# Create generator\n",
    "batch_size = 32\n",
    "train_gen = MultiModalDataGenerator(\n",
    "    dataframe=merged_df,\n",
    "    image_path=image_path,\n",
    "    geno_feature_cols=geno_feature_cols,\n",
    "    batch_size=batch_size,\n",
    "    shuffle=True\n",
    ")"
   ]
  },
  {
   "cell_type": "code",
   "execution_count": 6,
   "id": "0dab85b2-c839-4d9a-a39c-263b21e92361",
   "metadata": {},
   "outputs": [],
   "source": [
    "from tensorflow.keras.models import load_model, Model\n",
    "from tensorflow.keras.layers import Input\n",
    "\n",
    "# Load original\n",
    "image_model = load_model('CNN.h5', compile=False)\n",
    "\n",
    "# Input\n",
    "img_input = Input(shape=image_model.input_shape[1:], name='image_input')\n",
    "x = img_input\n",
    "\n",
    "# Rebuild layers with unique names\n",
    "for i, layer in enumerate(image_model.layers[1:-1]):  # skip input & output\n",
    "    config = layer.get_config()\n",
    "    config['name'] = f\"img_{config['name']}_{i}\"  # make unique\n",
    "    x = layer.__class__.from_config(config)(x)\n",
    "\n",
    "img_features = x\n",
    "image_feature_extractor = Model(inputs=img_input, outputs=img_features)"
   ]
  },
  {
   "cell_type": "code",
   "execution_count": 7,
   "id": "43e8e682-862b-4379-91d0-33d925b9bb8c",
   "metadata": {},
   "outputs": [],
   "source": [
    "geno_model = load_model('wheat_height_predictor.h5', compile=False)\n",
    "\n",
    "geno_input = Input(shape=geno_model.input_shape[1:], name='geno_input')\n",
    "x = geno_input\n",
    "\n",
    "for i, layer in enumerate(geno_model.layers[1:-1]):\n",
    "    config = layer.get_config()\n",
    "    config['name'] = f\"geno_{config['name']}_{i}\"\n",
    "    x = layer.__class__.from_config(config)(x)\n",
    "\n",
    "geno_features = x\n",
    "geno_feature_extractor = Model(inputs=geno_input, outputs=geno_features)"
   ]
  },
  {
   "cell_type": "code",
   "execution_count": 8,
   "id": "d24d3b10-e8ba-4412-a9c7-dd318300a4c3",
   "metadata": {},
   "outputs": [],
   "source": [
    "from tensorflow.keras import layers, Model\n",
    "\n",
    "combined = layers.concatenate([image_feature_extractor.output, geno_feature_extractor.output], name='fusion')\n",
    "x = layers.Dense(128, activation='relu', name='fusion_dense_1')(combined)\n",
    "x = layers.Dropout(0.3, name='fusion_dropout')(x)\n",
    "output = layers.Dense(1, name='yield_output')(x)\n",
    "\n",
    "multimodal_model = Model(\n",
    "    inputs=[image_feature_extractor.input, geno_feature_extractor.input],\n",
    "    outputs=output\n",
    ")\n",
    "multimodal_model.compile(optimizer='adam', loss='mse', metrics=['mae'])"
   ]
  },
  {
   "cell_type": "code",
   "execution_count": 9,
   "id": "11a63c46-bc84-400c-a039-486012e568fc",
   "metadata": {},
   "outputs": [
    {
     "name": "stdout",
     "output_type": "stream",
     "text": [
      "Epoch 1/10\n",
      "5385/5385 [==============================] - 5782s 1s/step - loss: 0.8003 - mae: 0.6845\n",
      "Epoch 2/10\n",
      "5385/5385 [==============================] - 5850s 1s/step - loss: 0.3718 - mae: 0.4790\n",
      "Epoch 3/10\n",
      "5385/5385 [==============================] - 5967s 1s/step - loss: 0.2500 - mae: 0.3907\n",
      "Epoch 4/10\n",
      "5385/5385 [==============================] - 5649s 1s/step - loss: 0.1721 - mae: 0.3227\n",
      "Epoch 5/10\n",
      "5385/5385 [==============================] - 5899s 1s/step - loss: 0.1204 - mae: 0.2697\n",
      "Epoch 6/10\n",
      "5385/5385 [==============================] - 5864s 1s/step - loss: 0.0898 - mae: 0.2313\n",
      "Epoch 7/10\n",
      "5385/5385 [==============================] - 5825s 1s/step - loss: 0.0712 - mae: 0.2051\n",
      "Epoch 8/10\n",
      "5385/5385 [==============================] - 5843s 1s/step - loss: 0.0602 - mae: 0.1880\n",
      "Epoch 9/10\n",
      "5385/5385 [==============================] - 5772s 1s/step - loss: 0.0533 - mae: 0.1759\n",
      "Epoch 10/10\n",
      "5385/5385 [==============================] - 5695s 1s/step - loss: 0.0478 - mae: 0.1667\n"
     ]
    },
    {
     "data": {
      "text/plain": [
       "<keras.callbacks.History at 0x14754d724be0>"
      ]
     },
     "execution_count": 9,
     "metadata": {},
     "output_type": "execute_result"
    }
   ],
   "source": [
    "multimodal_model.fit(train_gen, epochs=10)"
   ]
  },
  {
   "cell_type": "code",
   "execution_count": null,
   "id": "96653a10-5c3f-40ee-bf50-aa238474c903",
   "metadata": {},
   "outputs": [
    {
     "name": "stdout",
     "output_type": "stream",
     "text": [
      "  76/5385 [..............................] - ETA: 1:32:46"
     ]
    }
   ],
   "source": [
    "from sklearn.metrics import r2_score\n",
    "\n",
    "y_pred = multimodal_model.predict(train_gen)\n",
    "\n",
    "y_true = np.concatenate([y for _, y in train_gen])\n",
    "\n",
    "r2 = r2_score(y_true, y_pred)\n",
    "print(f\"R² score: {r2:.4f}\")"
   ]
  },
  {
   "cell_type": "code",
   "execution_count": null,
   "id": "f560400a-23cb-4d78-9cd5-957dcd346c1e",
   "metadata": {},
   "outputs": [],
   "source": []
  }
 ],
 "metadata": {
  "kernelspec": {
   "display_name": "Python 3 (ipykernel)",
   "language": "python",
   "name": "python3"
  },
  "language_info": {
   "codemirror_mode": {
    "name": "ipython",
    "version": 3
   },
   "file_extension": ".py",
   "mimetype": "text/x-python",
   "name": "python",
   "nbconvert_exporter": "python",
   "pygments_lexer": "ipython3",
   "version": "3.10.12"
  }
 },
 "nbformat": 4,
 "nbformat_minor": 5
}
