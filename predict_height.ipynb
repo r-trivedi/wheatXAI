{
 "cells": [
  {
   "cell_type": "code",
   "execution_count": 22,
   "id": "a957a76c-8526-44f2-9325-ded9593819d3",
   "metadata": {},
   "outputs": [
    {
     "name": "stdout",
     "output_type": "stream",
     "text": [
      "done 1\n"
     ]
    }
   ],
   "source": [
    "import pandas as pd\n",
    "import numpy as np\n",
    "import tensorflow as tf\n",
    "import sklearn as skl\n",
    "from tensorflow import keras\n",
    "from tensorflow.keras import layers\n",
    "\n",
    "# Load SNP data from CSV file (already transposed, GIDs as row names, SNPs as columns)\n",
    "def load_snp_csv(snp_file):\n",
    "        df = pd.read_csv(snp_file, index_col=0)  # GIDs are row indices\n",
    "        df = df.astype(float)  # Ensure numerical values\n",
    "        return df\n",
    "\n",
    "# Load height data from CSV file\n",
    "def load_yield_data(yield_file):\n",
    "        yield_df = pd.read_csv(yield_file)\n",
    "        return yield_df.set_index(\"GID_filtered\")  # Ensure genetic ID is the index\n",
    "    \n",
    "print(\"done 1\")"
   ]
  },
  {
   "cell_type": "code",
   "execution_count": 2,
   "id": "d7bec91f-831c-444d-a01f-da1264701636",
   "metadata": {},
   "outputs": [
    {
     "name": "stdout",
     "output_type": "stream",
     "text": [
      "done 2\n"
     ]
    }
   ],
   "source": [
    "# Load the data\n",
    "#X = pd.read_csv(\"SNPs_phased_reduced.csv\")\n",
    "X = load_snp_csv(\"SNPs_phased_reduced.csv\")\n",
    "#Y = load_height_data(\"yield_data_reduced.csv\")\n",
    "#Y = pd.read_csv(\"yield_data_reduced.csv\")\n",
    "\n",
    "print(\"done 2\")"
   ]
  },
  {
   "cell_type": "code",
   "execution_count": 25,
   "id": "7d2a68c6-9e5c-4df1-a366-a63192ddb6d6",
   "metadata": {},
   "outputs": [
    {
     "name": "stdout",
     "output_type": "stream",
     "text": [
      "done 2.5\n"
     ]
    }
   ],
   "source": [
    "Y = load_yield_data(\"yield_data_reduced1.csv\")\n",
    "print(\"done 2.5\")"
   ]
  },
  {
   "cell_type": "code",
   "execution_count": 26,
   "id": "b35b67ab-ea52-4cf8-9f48-2c07af9f6e37",
   "metadata": {},
   "outputs": [
    {
     "name": "stdout",
     "output_type": "stream",
     "text": [
      "done 3\n"
     ]
    }
   ],
   "source": [
    "# Ensure that we only use samples that have height data\n",
    "matching_samples = list(set(X.index) & set(Y.index))\n",
    "\n",
    "# Filter SNP and height data for matching samples\n",
    "X = X.loc[matching_samples]  # GIDs are already rows\n",
    "Y = Y.loc[matching_samples, \"Y\"].values.flatten()\n",
    "\n",
    "print(\"done 3\")\n"
   ]
  },
  {
   "cell_type": "code",
   "execution_count": 27,
   "id": "6548d0fb-6a48-4502-b479-8189a00415c2",
   "metadata": {},
   "outputs": [
    {
     "data": {
      "text/plain": [
       "18085"
      ]
     },
     "execution_count": 27,
     "metadata": {},
     "output_type": "execute_result"
    }
   ],
   "source": [
    "len(Y)"
   ]
  },
  {
   "cell_type": "code",
   "execution_count": 49,
   "id": "1b19af57-0ec1-482a-b6ea-6cc91e87a7e9",
   "metadata": {},
   "outputs": [
    {
     "name": "stdout",
     "output_type": "stream",
     "text": [
      "done 4\n"
     ]
    }
   ],
   "source": [
    "# Split and normalise data\n",
    "from sklearn.model_selection import train_test_split\n",
    "from sklearn.preprocessing import StandardScaler\n",
    "\n",
    "X_train, X_test, Y_train, Y_test = train_test_split(X, Y, test_size=0.2, random_state=42)\n",
    "\n",
    "scaler = StandardScaler()\n",
    "X_train_scaled = scaler.fit_transform(X_train)\n",
    "X_test_scaled = scaler.transform(X_test)\n",
    "print(\"done 4\")\n"
   ]
  },
  {
   "cell_type": "code",
   "execution_count": 50,
   "id": "4f01b891-2b95-461e-9a3f-d90cbabc7796",
   "metadata": {},
   "outputs": [
    {
     "name": "stdout",
     "output_type": "stream",
     "text": [
      "Epoch 1/50\n",
      "362/362 [==============================] - 24s 64ms/step - loss: 4.5828 - mae: 1.4304 - root_mean_squared_error: 2.1407 - val_loss: 0.6303 - val_mae: 0.6044 - val_root_mean_squared_error: 0.7939\n",
      "Epoch 2/50\n",
      "362/362 [==============================] - 22s 60ms/step - loss: 0.9301 - mae: 0.7665 - root_mean_squared_error: 0.9644 - val_loss: 0.4536 - val_mae: 0.5177 - val_root_mean_squared_error: 0.6735\n",
      "Epoch 3/50\n",
      "362/362 [==============================] - 22s 60ms/step - loss: 0.7993 - mae: 0.7113 - root_mean_squared_error: 0.8940 - val_loss: 0.4169 - val_mae: 0.5042 - val_root_mean_squared_error: 0.6457\n",
      "Epoch 4/50\n",
      "362/362 [==============================] - 21s 59ms/step - loss: 0.7099 - mae: 0.6679 - root_mean_squared_error: 0.8425 - val_loss: 0.4245 - val_mae: 0.5093 - val_root_mean_squared_error: 0.6515\n",
      "Epoch 5/50\n",
      "362/362 [==============================] - 22s 61ms/step - loss: 0.6647 - mae: 0.6477 - root_mean_squared_error: 0.8153 - val_loss: 0.3637 - val_mae: 0.4707 - val_root_mean_squared_error: 0.6031\n",
      "Epoch 6/50\n",
      "362/362 [==============================] - 22s 61ms/step - loss: 0.5788 - mae: 0.5999 - root_mean_squared_error: 0.7608 - val_loss: 0.3562 - val_mae: 0.4606 - val_root_mean_squared_error: 0.5968\n",
      "Epoch 7/50\n",
      "362/362 [==============================] - 22s 61ms/step - loss: 0.5474 - mae: 0.5871 - root_mean_squared_error: 0.7399 - val_loss: 0.3668 - val_mae: 0.4751 - val_root_mean_squared_error: 0.6056\n",
      "Epoch 8/50\n",
      "362/362 [==============================] - 22s 61ms/step - loss: 0.4952 - mae: 0.5565 - root_mean_squared_error: 0.7037 - val_loss: 0.3730 - val_mae: 0.4789 - val_root_mean_squared_error: 0.6107\n",
      "Epoch 9/50\n",
      "362/362 [==============================] - 22s 61ms/step - loss: 0.4744 - mae: 0.5438 - root_mean_squared_error: 0.6888 - val_loss: 0.3723 - val_mae: 0.4786 - val_root_mean_squared_error: 0.6102\n",
      "Epoch 10/50\n",
      "362/362 [==============================] - 22s 62ms/step - loss: 0.4371 - mae: 0.5214 - root_mean_squared_error: 0.6611 - val_loss: 0.3825 - val_mae: 0.4864 - val_root_mean_squared_error: 0.6184\n",
      "Epoch 11/50\n",
      "362/362 [==============================] - 22s 61ms/step - loss: 0.3951 - mae: 0.4943 - root_mean_squared_error: 0.6285 - val_loss: 0.4003 - val_mae: 0.4999 - val_root_mean_squared_error: 0.6327\n",
      "Epoch 12/50\n",
      "362/362 [==============================] - 22s 61ms/step - loss: 0.3785 - mae: 0.4835 - root_mean_squared_error: 0.6152 - val_loss: 0.3880 - val_mae: 0.4868 - val_root_mean_squared_error: 0.6229\n",
      "Epoch 13/50\n",
      "362/362 [==============================] - 22s 61ms/step - loss: 0.3495 - mae: 0.4669 - root_mean_squared_error: 0.5912 - val_loss: 0.3775 - val_mae: 0.4827 - val_root_mean_squared_error: 0.6144\n",
      "Epoch 14/50\n",
      "362/362 [==============================] - 22s 61ms/step - loss: 0.3209 - mae: 0.4461 - root_mean_squared_error: 0.5665 - val_loss: 0.3730 - val_mae: 0.4825 - val_root_mean_squared_error: 0.6107\n",
      "Epoch 15/50\n",
      "362/362 [==============================] - 22s 61ms/step - loss: 0.3039 - mae: 0.4324 - root_mean_squared_error: 0.5512 - val_loss: 0.3664 - val_mae: 0.4786 - val_root_mean_squared_error: 0.6053\n",
      "Epoch 16/50\n",
      "362/362 [==============================] - 23s 62ms/step - loss: 0.2821 - mae: 0.4154 - root_mean_squared_error: 0.5312 - val_loss: 0.3303 - val_mae: 0.4483 - val_root_mean_squared_error: 0.5747\n",
      "Epoch 17/50\n",
      "362/362 [==============================] - 22s 61ms/step - loss: 0.2685 - mae: 0.4040 - root_mean_squared_error: 0.5182 - val_loss: 0.3811 - val_mae: 0.4889 - val_root_mean_squared_error: 0.6174\n",
      "Epoch 18/50\n",
      "362/362 [==============================] - 22s 60ms/step - loss: 0.2562 - mae: 0.3965 - root_mean_squared_error: 0.5061 - val_loss: 0.3240 - val_mae: 0.4431 - val_root_mean_squared_error: 0.5692\n",
      "Epoch 19/50\n",
      "362/362 [==============================] - 22s 60ms/step - loss: 0.2398 - mae: 0.3815 - root_mean_squared_error: 0.4897 - val_loss: 0.3359 - val_mae: 0.4553 - val_root_mean_squared_error: 0.5796\n",
      "Epoch 20/50\n",
      "362/362 [==============================] - 22s 62ms/step - loss: 0.2158 - mae: 0.3629 - root_mean_squared_error: 0.4645 - val_loss: 0.3211 - val_mae: 0.4419 - val_root_mean_squared_error: 0.5667\n",
      "Epoch 21/50\n",
      "362/362 [==============================] - 22s 60ms/step - loss: 0.2029 - mae: 0.3500 - root_mean_squared_error: 0.4504 - val_loss: 0.2998 - val_mae: 0.4250 - val_root_mean_squared_error: 0.5476\n",
      "Epoch 22/50\n",
      "362/362 [==============================] - 22s 60ms/step - loss: 0.1931 - mae: 0.3414 - root_mean_squared_error: 0.4395 - val_loss: 0.3181 - val_mae: 0.4372 - val_root_mean_squared_error: 0.5640\n",
      "Epoch 23/50\n",
      "362/362 [==============================] - 22s 61ms/step - loss: 0.1887 - mae: 0.3369 - root_mean_squared_error: 0.4344 - val_loss: 0.3046 - val_mae: 0.4259 - val_root_mean_squared_error: 0.5519\n",
      "Epoch 24/50\n",
      "362/362 [==============================] - 22s 60ms/step - loss: 0.1806 - mae: 0.3291 - root_mean_squared_error: 0.4249 - val_loss: 0.3318 - val_mae: 0.4497 - val_root_mean_squared_error: 0.5760\n",
      "Epoch 25/50\n",
      "362/362 [==============================] - 22s 61ms/step - loss: 0.1762 - mae: 0.3243 - root_mean_squared_error: 0.4198 - val_loss: 0.2912 - val_mae: 0.4135 - val_root_mean_squared_error: 0.5397\n",
      "Epoch 26/50\n",
      "362/362 [==============================] - 22s 62ms/step - loss: 0.1646 - mae: 0.3139 - root_mean_squared_error: 0.4057 - val_loss: 0.2928 - val_mae: 0.4146 - val_root_mean_squared_error: 0.5411\n",
      "Epoch 27/50\n",
      "362/362 [==============================] - 22s 61ms/step - loss: 0.1584 - mae: 0.3079 - root_mean_squared_error: 0.3980 - val_loss: 0.2968 - val_mae: 0.4205 - val_root_mean_squared_error: 0.5448\n",
      "Epoch 28/50\n",
      "362/362 [==============================] - 22s 61ms/step - loss: 0.1527 - mae: 0.3008 - root_mean_squared_error: 0.3908 - val_loss: 0.2874 - val_mae: 0.4059 - val_root_mean_squared_error: 0.5361\n",
      "Epoch 29/50\n",
      "362/362 [==============================] - 22s 61ms/step - loss: 0.1541 - mae: 0.3019 - root_mean_squared_error: 0.3926 - val_loss: 0.2891 - val_mae: 0.4131 - val_root_mean_squared_error: 0.5377\n",
      "Epoch 30/50\n",
      "362/362 [==============================] - 22s 61ms/step - loss: 0.1415 - mae: 0.2900 - root_mean_squared_error: 0.3761 - val_loss: 0.2827 - val_mae: 0.4058 - val_root_mean_squared_error: 0.5317\n",
      "Epoch 31/50\n",
      "362/362 [==============================] - 22s 62ms/step - loss: 0.1394 - mae: 0.2869 - root_mean_squared_error: 0.3734 - val_loss: 0.2894 - val_mae: 0.4111 - val_root_mean_squared_error: 0.5380\n",
      "Epoch 32/50\n",
      "362/362 [==============================] - 22s 60ms/step - loss: 0.1415 - mae: 0.2882 - root_mean_squared_error: 0.3762 - val_loss: 0.3022 - val_mae: 0.4195 - val_root_mean_squared_error: 0.5497\n",
      "Epoch 33/50\n",
      "362/362 [==============================] - 22s 60ms/step - loss: 0.1366 - mae: 0.2843 - root_mean_squared_error: 0.3696 - val_loss: 0.2804 - val_mae: 0.4020 - val_root_mean_squared_error: 0.5295\n",
      "Epoch 34/50\n",
      "362/362 [==============================] - 22s 60ms/step - loss: 0.1338 - mae: 0.2800 - root_mean_squared_error: 0.3658 - val_loss: 0.2782 - val_mae: 0.3988 - val_root_mean_squared_error: 0.5274\n",
      "Epoch 35/50\n",
      "362/362 [==============================] - 22s 60ms/step - loss: 0.1304 - mae: 0.2765 - root_mean_squared_error: 0.3611 - val_loss: 0.2882 - val_mae: 0.4063 - val_root_mean_squared_error: 0.5369\n",
      "Epoch 36/50\n",
      "362/362 [==============================] - 21s 59ms/step - loss: 0.1321 - mae: 0.2792 - root_mean_squared_error: 0.3635 - val_loss: 0.2770 - val_mae: 0.3980 - val_root_mean_squared_error: 0.5263\n",
      "Epoch 37/50\n",
      "362/362 [==============================] - 21s 59ms/step - loss: 0.1246 - mae: 0.2706 - root_mean_squared_error: 0.3530 - val_loss: 0.2752 - val_mae: 0.3996 - val_root_mean_squared_error: 0.5246\n",
      "Epoch 38/50\n",
      "362/362 [==============================] - 22s 60ms/step - loss: 0.1259 - mae: 0.2710 - root_mean_squared_error: 0.3548 - val_loss: 0.2854 - val_mae: 0.4064 - val_root_mean_squared_error: 0.5342\n",
      "Epoch 39/50\n",
      "362/362 [==============================] - 22s 60ms/step - loss: 0.1195 - mae: 0.2645 - root_mean_squared_error: 0.3457 - val_loss: 0.2883 - val_mae: 0.4097 - val_root_mean_squared_error: 0.5370\n",
      "Epoch 40/50\n",
      "362/362 [==============================] - 22s 60ms/step - loss: 0.1190 - mae: 0.2617 - root_mean_squared_error: 0.3450 - val_loss: 0.2902 - val_mae: 0.4066 - val_root_mean_squared_error: 0.5387\n",
      "Epoch 41/50\n",
      "362/362 [==============================] - 22s 60ms/step - loss: 0.1172 - mae: 0.2622 - root_mean_squared_error: 0.3424 - val_loss: 0.2903 - val_mae: 0.4072 - val_root_mean_squared_error: 0.5388\n",
      "Epoch 42/50\n",
      "362/362 [==============================] - 22s 59ms/step - loss: 0.1166 - mae: 0.2601 - root_mean_squared_error: 0.3414 - val_loss: 0.2923 - val_mae: 0.4117 - val_root_mean_squared_error: 0.5406\n",
      "Epoch 43/50\n",
      "362/362 [==============================] - 22s 60ms/step - loss: 0.1144 - mae: 0.2586 - root_mean_squared_error: 0.3383 - val_loss: 0.2811 - val_mae: 0.4016 - val_root_mean_squared_error: 0.5302\n",
      "Epoch 44/50\n",
      "362/362 [==============================] - 22s 61ms/step - loss: 0.1092 - mae: 0.2525 - root_mean_squared_error: 0.3304 - val_loss: 0.2823 - val_mae: 0.4010 - val_root_mean_squared_error: 0.5313\n",
      "Epoch 45/50\n",
      "362/362 [==============================] - 22s 60ms/step - loss: 0.1090 - mae: 0.2514 - root_mean_squared_error: 0.3301 - val_loss: 0.3033 - val_mae: 0.4157 - val_root_mean_squared_error: 0.5507\n",
      "Epoch 46/50\n",
      "362/362 [==============================] - 22s 61ms/step - loss: 0.1073 - mae: 0.2498 - root_mean_squared_error: 0.3276 - val_loss: 0.2812 - val_mae: 0.4038 - val_root_mean_squared_error: 0.5303\n",
      "Epoch 47/50\n",
      "362/362 [==============================] - 22s 60ms/step - loss: 0.1068 - mae: 0.2463 - root_mean_squared_error: 0.3269 - val_loss: 0.2915 - val_mae: 0.4095 - val_root_mean_squared_error: 0.5399\n",
      "Epoch 48/50\n",
      "362/362 [==============================] - 22s 62ms/step - loss: 0.1067 - mae: 0.2471 - root_mean_squared_error: 0.3267 - val_loss: 0.2917 - val_mae: 0.4080 - val_root_mean_squared_error: 0.5400\n",
      "Epoch 49/50\n",
      "362/362 [==============================] - 22s 60ms/step - loss: 0.1041 - mae: 0.2445 - root_mean_squared_error: 0.3226 - val_loss: 0.2908 - val_mae: 0.4091 - val_root_mean_squared_error: 0.5393\n",
      "Epoch 50/50\n",
      "362/362 [==============================] - 21s 59ms/step - loss: 0.1031 - mae: 0.2443 - root_mean_squared_error: 0.3211 - val_loss: 0.2780 - val_mae: 0.3954 - val_root_mean_squared_error: 0.5272\n"
     ]
    }
   ],
   "source": [
    "\n",
    "# Build the neural network model\n",
    "#model = keras.Sequential([\n",
    "#    layers.Input(shape=(X_train.shape[1],)),\n",
    "#    layers.Dense(128, activation='relu'),\n",
    "#    layers.Dropout(0.3),\n",
    "#    layers.Dense(64, activation='relu'),\n",
    "#    layers.Dense(1)\n",
    "#])\n",
    "\n",
    "model = keras.Sequential([\n",
    "    layers.Input(shape=(X_train_scaled.shape[1],)),\n",
    "    layers.Dense(256, activation='relu'),  \n",
    "    layers.BatchNormalization(),\n",
    "    layers.Dropout(0.3),\n",
    "\n",
    "    layers.Dense(128, activation='relu'),\n",
    "    layers.BatchNormalization(),\n",
    "    layers.Dropout(0.3),\n",
    "\n",
    "    layers.Dense(64, activation='relu'),\n",
    "    layers.Dense(1)\n",
    "])\n",
    "\n",
    "# Compile the model\n",
    "model.compile(optimizer='adam', loss='mse', metrics=['mae', tf.keras.metrics.RootMeanSquaredError()])\n",
    "\n",
    "# Train the model\n",
    "history = model.fit(X_train_scaled, Y_train, epochs=50, batch_size=32, validation_split=0.2)\n"
   ]
  },
  {
   "cell_type": "code",
   "execution_count": 51,
   "id": "7c80d2e8-96eb-4975-9a23-b4b9c3be84c8",
   "metadata": {},
   "outputs": [
    {
     "name": "stdout",
     "output_type": "stream",
     "text": [
      "114/114 [==============================] - 1s 5ms/step - loss: 0.2603 - mae: 0.3877 - root_mean_squared_error: 0.5102\n",
      "Test MAE: 0.38768792152404785\n",
      "114/114 [==============================] - 1s 5ms/step\n"
     ]
    }
   ],
   "source": [
    "# Evaluate the model\n",
    "test_loss, test_mae, test_rmse = model.evaluate(X_test_scaled, Y_test)\n",
    "print(f\"Test MAE: {test_mae}\")\n",
    "\n",
    "# Make predictions\n",
    "predictions = model.predict(X_test_scaled)\n",
    "\n",
    "# Save the model\n",
    "model.save('wheat_height_predictor.h5')"
   ]
  },
  {
   "cell_type": "code",
   "execution_count": 52,
   "id": "c481903c-0942-4eb1-9fb9-b6e3ca73bf60",
   "metadata": {},
   "outputs": [
    {
     "data": {
      "text/plain": [
       "array([[1.        , 0.66849342],\n",
       "       [0.66849342, 1.        ]])"
      ]
     },
     "execution_count": 52,
     "metadata": {},
     "output_type": "execute_result"
    }
   ],
   "source": [
    "np.corrcoef(Y_test, predictions.T)"
   ]
  },
  {
   "cell_type": "code",
   "execution_count": null,
   "id": "a9c0b3c1-b1fb-42b2-8ccc-d151741e03f1",
   "metadata": {},
   "outputs": [],
   "source": []
  }
 ],
 "metadata": {
  "kernelspec": {
   "display_name": "Python 3 (ipykernel)",
   "language": "python",
   "name": "python3"
  },
  "language_info": {
   "codemirror_mode": {
    "name": "ipython",
    "version": 3
   },
   "file_extension": ".py",
   "mimetype": "text/x-python",
   "name": "python",
   "nbconvert_exporter": "python",
   "pygments_lexer": "ipython3",
   "version": "3.10.12"
  }
 },
 "nbformat": 4,
 "nbformat_minor": 5
}
