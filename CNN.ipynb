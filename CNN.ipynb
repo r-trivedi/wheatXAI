{
 "cells": [
  {
   "cell_type": "code",
   "execution_count": 2,
   "id": "7bb56c95-96ac-477e-a2a5-b05e228c371a",
   "metadata": {},
   "outputs": [],
   "source": [
    "import os\n",
    "import numpy as np\n",
    "import pandas as pd\n",
    "import cv2\n",
    "from tensorflow import keras\n",
    "from tensorflow.keras import layers\n",
    "from sklearn.model_selection import train_test_split\n",
    "from sklearn.metrics import r2_score, mean_squared_error"
   ]
  },
  {
   "cell_type": "code",
   "execution_count": 3,
   "id": "e549d9ef-f9c3-40c4-b422-c2d4b66db1c9",
   "metadata": {},
   "outputs": [
    {
     "data": {
      "text/plain": [
       "numpy.float64"
      ]
     },
     "execution_count": 3,
     "metadata": {},
     "output_type": "execute_result"
    }
   ],
   "source": [
    "# --- Load CSV ---\n",
    "csv_path = \"/scratch/pawsey1157/rtrivedi/dataset/Phenotypes/Images_GIDs_GRYLD.csv\"\n",
    "npy_dir = \"/scratch/pawsey1157/rtrivedi/dataset/Phenotypes/stacked_npy/\"\n",
    "data_df = pd.read_csv(csv_path, header=None, names=['filename', 'GID', 'GRYLD'])\n",
    "\n",
    "type((data_df.loc[1, 'GRYLD']))\n",
    "#type(row['GRYLD'])"
   ]
  },
  {
   "cell_type": "code",
   "execution_count": 4,
   "id": "80bacc16-c316-4a3b-b08e-8b3a156bb650",
   "metadata": {},
   "outputs": [],
   "source": [
    "# --- Load all .npy images into X, yield into Y ---\n",
    "X = []\n",
    "Y = []"
   ]
  },
  {
   "cell_type": "code",
   "execution_count": 5,
   "id": "488578f9-d90c-4e91-8684-d07042453e6b",
   "metadata": {},
   "outputs": [],
   "source": [
    "# Define target size (width, height)\n",
    "target_size = (61, 145)  # (width, height)\n",
    "\n",
    "# Function to resize each band\n",
    "def resize_multiband(img, target_size):\n",
    "    bands = []\n",
    "    for i in range(img.shape[2]):  # loop over bands (8)\n",
    "        band_resized = cv2.resize(img[:, :, i], target_size, interpolation=cv2.INTER_AREA)\n",
    "        bands.append(band_resized)\n",
    "    return np.stack(bands, axis=-1)"
   ]
  },
  {
   "cell_type": "code",
   "execution_count": 6,
   "id": "f815d87a-ade8-4c5c-bd25-d0f0f1c87ba4",
   "metadata": {},
   "outputs": [],
   "source": [
    "for idx, row in data_df.iterrows():\n",
    "    npy_path = os.path.join(npy_dir, str(data_df.loc[idx, 'filename']))\n",
    "    if os.path.exists(npy_path):\n",
    "        img = np.load(npy_path)\n",
    "        img_resized = resize_multiband(img, target_size)\n",
    "        YLD = ((data_df.loc[idx, 'GRYLD']))\n",
    "        X.append(img_resized)\n",
    "        Y.append(YLD)\n",
    "    else:\n",
    "        print(f\"Warning: {npy_path} not found, skipping.\")"
   ]
  },
  {
   "cell_type": "code",
   "execution_count": 26,
   "id": "6e442828-4319-4e2b-8f79-75a7744a7653",
   "metadata": {},
   "outputs": [
    {
     "data": {
      "text/plain": [
       "numpy.float64"
      ]
     },
     "execution_count": 26,
     "metadata": {},
     "output_type": "execute_result"
    }
   ],
   "source": [
    "type(YLD)\n",
    "#for i, img in enumerate(X):\n",
    "#    print(f\"Image {i} shape: {img.shape}\")"
   ]
  },
  {
   "cell_type": "code",
   "execution_count": 7,
   "id": "a40968f3-0cf8-4fdd-8fb8-ae6e6051debe",
   "metadata": {},
   "outputs": [
    {
     "name": "stdout",
     "output_type": "stream",
     "text": [
      "Loaded data shape: (85855, 145, 61, 8)\n",
      "Yield shape: (85855,)\n"
     ]
    }
   ],
   "source": [
    "X = np.array(X)\n",
    "Y = np.array(Y)\n",
    "\n",
    "print(\"Loaded data shape:\", X.shape)  # (samples, height, width, bands)\n",
    "print(\"Yield shape:\", Y.shape)\n"
   ]
  },
  {
   "cell_type": "code",
   "execution_count": 32,
   "id": "d4919edd-ef3c-4a90-85a4-41d8bc3ceef8",
   "metadata": {},
   "outputs": [
    {
     "name": "stdout",
     "output_type": "stream",
     "text": [
      "Any NaNs in X? False\n",
      "Any infinities in X? False\n",
      "X min/max: -0.8261975 3.6003518\n",
      "Any NaNs in Y? False\n",
      "Y min/max: 0.861 10.192\n"
     ]
    }
   ],
   "source": [
    "print(\"Any NaNs in X?\", np.isnan(X).any())\n",
    "print(\"Any infinities in X?\", np.isinf(X).any())\n",
    "print(\"X min/max:\", np.min(X), np.max(X))\n",
    "\n",
    "print(\"Any NaNs in Y?\", np.isnan(Y).any())\n",
    "print(\"Y min/max:\", np.min(Y), np.max(Y))"
   ]
  },
  {
   "cell_type": "code",
   "execution_count": 8,
   "id": "ccb74e9d-b0c9-4dea-a9e2-a451fb8d5cd9",
   "metadata": {},
   "outputs": [
    {
     "name": "stdout",
     "output_type": "stream",
     "text": [
      "Model: \"sequential\"\n",
      "_________________________________________________________________\n",
      " Layer (type)                Output Shape              Param #   \n",
      "=================================================================\n",
      " conv2d (Conv2D)             (None, 145, 61, 32)       2336      \n",
      "                                                                 \n",
      " max_pooling2d (MaxPooling2D  (None, 72, 30, 32)       0         \n",
      " )                                                               \n",
      "                                                                 \n",
      " conv2d_1 (Conv2D)           (None, 72, 30, 64)        18496     \n",
      "                                                                 \n",
      " max_pooling2d_1 (MaxPooling  (None, 36, 15, 64)       0         \n",
      " 2D)                                                             \n",
      "                                                                 \n",
      " conv2d_2 (Conv2D)           (None, 36, 15, 128)       73856     \n",
      "                                                                 \n",
      " max_pooling2d_2 (MaxPooling  (None, 18, 7, 128)       0         \n",
      " 2D)                                                             \n",
      "                                                                 \n",
      " flatten (Flatten)           (None, 16128)             0         \n",
      "                                                                 \n",
      " dense (Dense)               (None, 128)               2064512   \n",
      "                                                                 \n",
      " dropout (Dropout)           (None, 128)               0         \n",
      "                                                                 \n",
      " dense_1 (Dense)             (None, 1)                 129       \n",
      "                                                                 \n",
      "=================================================================\n",
      "Total params: 2,159,329\n",
      "Trainable params: 2,159,329\n",
      "Non-trainable params: 0\n",
      "_________________________________________________________________\n",
      "Epoch 1/50\n",
      "3435/3435 [==============================] - 139s 40ms/step - loss: 1.0754 - mae: 0.8125 - val_loss: 0.5122 - val_mae: 0.5683\n",
      "Epoch 2/50\n",
      "3435/3435 [==============================] - 120s 35ms/step - loss: 0.8017 - mae: 0.7086 - val_loss: 0.3414 - val_mae: 0.4559\n",
      "Epoch 3/50\n",
      "3435/3435 [==============================] - 118s 34ms/step - loss: 0.6630 - mae: 0.6432 - val_loss: 0.3448 - val_mae: 0.4579\n",
      "Epoch 4/50\n",
      "3435/3435 [==============================] - 119s 35ms/step - loss: 0.5647 - mae: 0.5934 - val_loss: 0.2944 - val_mae: 0.4234\n",
      "Epoch 5/50\n",
      "3435/3435 [==============================] - 120s 35ms/step - loss: 0.4610 - mae: 0.5355 - val_loss: 0.2718 - val_mae: 0.4061\n",
      "Epoch 6/50\n",
      "3435/3435 [==============================] - 120s 35ms/step - loss: 0.3910 - mae: 0.4923 - val_loss: 0.2601 - val_mae: 0.3978\n",
      "Epoch 7/50\n",
      "3435/3435 [==============================] - 119s 35ms/step - loss: 0.3248 - mae: 0.4472 - val_loss: 0.2719 - val_mae: 0.4078\n",
      "Epoch 8/50\n",
      "3435/3435 [==============================] - 119s 35ms/step - loss: 0.2758 - mae: 0.4112 - val_loss: 0.2483 - val_mae: 0.3842\n",
      "Epoch 9/50\n",
      "3435/3435 [==============================] - 119s 35ms/step - loss: 0.2384 - mae: 0.3803 - val_loss: 0.2191 - val_mae: 0.3608\n",
      "Epoch 10/50\n",
      "3435/3435 [==============================] - 118s 34ms/step - loss: 0.2110 - mae: 0.3557 - val_loss: 0.2156 - val_mae: 0.3575\n",
      "Epoch 11/50\n",
      "3435/3435 [==============================] - 118s 34ms/step - loss: 0.1927 - mae: 0.3383 - val_loss: 0.2175 - val_mae: 0.3574\n",
      "Epoch 12/50\n",
      "3435/3435 [==============================] - 118s 34ms/step - loss: 0.1802 - mae: 0.3260 - val_loss: 0.2059 - val_mae: 0.3475\n",
      "Epoch 13/50\n",
      "3435/3435 [==============================] - 118s 34ms/step - loss: 0.1735 - mae: 0.3189 - val_loss: 0.2118 - val_mae: 0.3521\n",
      "Epoch 14/50\n",
      "3435/3435 [==============================] - 118s 34ms/step - loss: 0.1647 - mae: 0.3099 - val_loss: 0.2092 - val_mae: 0.3505\n",
      "Epoch 15/50\n",
      "3435/3435 [==============================] - 119s 35ms/step - loss: 0.1570 - mae: 0.3019 - val_loss: 0.1981 - val_mae: 0.3411\n",
      "Epoch 16/50\n",
      "3435/3435 [==============================] - 118s 34ms/step - loss: 0.1517 - mae: 0.2965 - val_loss: 0.2018 - val_mae: 0.3431\n",
      "Epoch 17/50\n",
      "3435/3435 [==============================] - 118s 34ms/step - loss: 0.1447 - mae: 0.2896 - val_loss: 0.2043 - val_mae: 0.3470\n",
      "Epoch 18/50\n",
      "3435/3435 [==============================] - 118s 34ms/step - loss: 0.1422 - mae: 0.2868 - val_loss: 0.1926 - val_mae: 0.3338\n",
      "Epoch 19/50\n",
      "3435/3435 [==============================] - 119s 35ms/step - loss: 0.1370 - mae: 0.2811 - val_loss: 0.1976 - val_mae: 0.3381\n",
      "Epoch 20/50\n",
      "3435/3435 [==============================] - 120s 35ms/step - loss: 0.1326 - mae: 0.2764 - val_loss: 0.1872 - val_mae: 0.3298\n",
      "Epoch 21/50\n",
      "3435/3435 [==============================] - 119s 35ms/step - loss: 0.1304 - mae: 0.2744 - val_loss: 0.1893 - val_mae: 0.3331\n",
      "Epoch 22/50\n",
      "3435/3435 [==============================] - 119s 35ms/step - loss: 0.1253 - mae: 0.2678 - val_loss: 0.1974 - val_mae: 0.3394\n",
      "Epoch 23/50\n",
      "3435/3435 [==============================] - 120s 35ms/step - loss: 0.1240 - mae: 0.2661 - val_loss: 0.1946 - val_mae: 0.3365\n",
      "Epoch 24/50\n",
      "3435/3435 [==============================] - 120s 35ms/step - loss: 0.1208 - mae: 0.2622 - val_loss: 0.2029 - val_mae: 0.3408\n",
      "Epoch 25/50\n",
      "3435/3435 [==============================] - 119s 35ms/step - loss: 0.1187 - mae: 0.2600 - val_loss: 0.1892 - val_mae: 0.3297\n",
      "Epoch 26/50\n",
      "3435/3435 [==============================] - 119s 35ms/step - loss: 0.1153 - mae: 0.2558 - val_loss: 0.1993 - val_mae: 0.3395\n",
      "Epoch 27/50\n",
      "3435/3435 [==============================] - 118s 34ms/step - loss: 0.1133 - mae: 0.2536 - val_loss: 0.1865 - val_mae: 0.3277\n",
      "Epoch 28/50\n",
      "3435/3435 [==============================] - 118s 34ms/step - loss: 0.1103 - mae: 0.2502 - val_loss: 0.1839 - val_mae: 0.3241\n",
      "Epoch 29/50\n",
      "3435/3435 [==============================] - 118s 34ms/step - loss: 0.1097 - mae: 0.2488 - val_loss: 0.1885 - val_mae: 0.3309\n",
      "Epoch 30/50\n",
      "3435/3435 [==============================] - 119s 35ms/step - loss: 0.1091 - mae: 0.2482 - val_loss: 0.1892 - val_mae: 0.3313\n",
      "Epoch 31/50\n",
      "3435/3435 [==============================] - 119s 35ms/step - loss: 0.1070 - mae: 0.2450 - val_loss: 0.1861 - val_mae: 0.3268\n",
      "Epoch 32/50\n",
      "3435/3435 [==============================] - 118s 34ms/step - loss: 0.1063 - mae: 0.2447 - val_loss: 0.1884 - val_mae: 0.3292\n",
      "Epoch 33/50\n",
      "3435/3435 [==============================] - 119s 35ms/step - loss: 0.1041 - mae: 0.2420 - val_loss: 0.1866 - val_mae: 0.3267\n",
      "Epoch 34/50\n",
      "3435/3435 [==============================] - 118s 34ms/step - loss: 0.1032 - mae: 0.2408 - val_loss: 0.1876 - val_mae: 0.3280\n",
      "Epoch 35/50\n",
      "3435/3435 [==============================] - 119s 35ms/step - loss: 0.1032 - mae: 0.2408 - val_loss: 0.1852 - val_mae: 0.3265\n",
      "Epoch 36/50\n",
      "3435/3435 [==============================] - 119s 35ms/step - loss: 0.1015 - mae: 0.2381 - val_loss: 0.1820 - val_mae: 0.3241\n",
      "Epoch 37/50\n",
      "3435/3435 [==============================] - 118s 34ms/step - loss: 0.1006 - mae: 0.2372 - val_loss: 0.1943 - val_mae: 0.3351\n",
      "Epoch 38/50\n",
      "3435/3435 [==============================] - 118s 34ms/step - loss: 0.1010 - mae: 0.2371 - val_loss: 0.1866 - val_mae: 0.3268\n",
      "Epoch 39/50\n",
      "3435/3435 [==============================] - 119s 35ms/step - loss: 0.0976 - mae: 0.2333 - val_loss: 0.1822 - val_mae: 0.3238\n",
      "Epoch 40/50\n",
      "3435/3435 [==============================] - 118s 34ms/step - loss: 0.0965 - mae: 0.2315 - val_loss: 0.1831 - val_mae: 0.3240\n",
      "Epoch 41/50\n",
      "3435/3435 [==============================] - 119s 35ms/step - loss: 0.0966 - mae: 0.2322 - val_loss: 0.1817 - val_mae: 0.3219\n",
      "Epoch 42/50\n",
      "3435/3435 [==============================] - 118s 34ms/step - loss: 0.0962 - mae: 0.2313 - val_loss: 0.1905 - val_mae: 0.3330\n",
      "Epoch 43/50\n",
      "3435/3435 [==============================] - 118s 34ms/step - loss: 0.0941 - mae: 0.2283 - val_loss: 0.1907 - val_mae: 0.3319\n",
      "Epoch 44/50\n",
      "3435/3435 [==============================] - 119s 35ms/step - loss: 0.0945 - mae: 0.2295 - val_loss: 0.1804 - val_mae: 0.3224\n",
      "Epoch 45/50\n",
      "3435/3435 [==============================] - 119s 35ms/step - loss: 0.0928 - mae: 0.2264 - val_loss: 0.1862 - val_mae: 0.3282\n",
      "Epoch 46/50\n",
      "3435/3435 [==============================] - 118s 34ms/step - loss: 0.0926 - mae: 0.2255 - val_loss: 0.1895 - val_mae: 0.3302\n",
      "Epoch 47/50\n",
      "3435/3435 [==============================] - 118s 34ms/step - loss: 0.0927 - mae: 0.2259 - val_loss: 0.1830 - val_mae: 0.3232\n",
      "Epoch 48/50\n",
      "3435/3435 [==============================] - 119s 35ms/step - loss: 0.0919 - mae: 0.2247 - val_loss: 0.1785 - val_mae: 0.3199\n",
      "Epoch 49/50\n",
      "3435/3435 [==============================] - 118s 34ms/step - loss: 0.0915 - mae: 0.2243 - val_loss: 0.1948 - val_mae: 0.3347\n",
      "Epoch 50/50\n",
      "3435/3435 [==============================] - 118s 34ms/step - loss: 0.0916 - mae: 0.2244 - val_loss: 0.1791 - val_mae: 0.3191\n"
     ]
    }
   ],
   "source": [
    "# --- Train-test split ---\n",
    "X_train, X_test, Y_train, Y_test = train_test_split(X, Y, test_size=0.2, random_state=42)\n",
    "\n",
    "# --- Build CNN model ---\n",
    "input_shape = X_train.shape[1:]  # (height, width, bands)\n",
    "\n",
    "model = keras.Sequential([\n",
    "    layers.Input(shape=input_shape),\n",
    "    \n",
    "    layers.Conv2D(32, (3, 3), activation='relu', padding='same'),\n",
    "    layers.MaxPooling2D((2, 2)),\n",
    "    \n",
    "    layers.Conv2D(64, (3, 3), activation='relu', padding='same'),\n",
    "    layers.MaxPooling2D((2, 2)),\n",
    "    \n",
    "    layers.Conv2D(128, (3, 3), activation='relu', padding='same'),\n",
    "    layers.MaxPooling2D((2, 2)),\n",
    "    \n",
    "    layers.Flatten(),\n",
    "    layers.Dense(128, activation='relu'),\n",
    "    layers.Dropout(0.3),\n",
    "    layers.Dense(1)  # Single regression output for grain yield\n",
    "])\n",
    "\n",
    "model.compile(optimizer='adam', loss='mse', metrics=['mae'])\n",
    "\n",
    "model.summary()\n",
    "\n",
    "# --- Train model ---\n",
    "history = model.fit(X_train, Y_train, epochs=50, batch_size=16, validation_split=0.2)"
   ]
  },
  {
   "cell_type": "code",
   "execution_count": 9,
   "id": "b24e33fc-fa6a-47fc-aa58-6eb9499587aa",
   "metadata": {},
   "outputs": [
    {
     "name": "stdout",
     "output_type": "stream",
     "text": [
      "537/537 [==============================] - 6s 11ms/step - loss: 0.1907 - mae: 0.3267\n",
      "Test MAE: 0.3267\n"
     ]
    }
   ],
   "source": [
    "# --- Evaluate ---\n",
    "test_loss, test_mae = model.evaluate(X_test, Y_test)\n",
    "print(f\"Test MAE: {test_mae:.4f}\")\n",
    "\n"
   ]
  },
  {
   "cell_type": "code",
   "execution_count": 10,
   "id": "796f8d3e-de10-4a68-a67e-51dfbc1bfc02",
   "metadata": {},
   "outputs": [
    {
     "name": "stdout",
     "output_type": "stream",
     "text": [
      "537/537 [==============================] - 6s 11ms/step\n",
      "R²: 0.645, RMSE: 0.437\n"
     ]
    }
   ],
   "source": [
    "# --- Predict + check R² ---\n",
    "Y_pred = model.predict(X_test).flatten()\n",
    "r2 = r2_score(Y_test, Y_pred)\n",
    "rmse = np.sqrt(mean_squared_error(Y_test, Y_pred))\n",
    "\n",
    "print(f\"R²: {r2:.3f}, RMSE: {rmse:.3f}\")"
   ]
  },
  {
   "cell_type": "code",
   "execution_count": null,
   "id": "544f332a-dfc3-46a4-9ebc-da1eb98b50ed",
   "metadata": {},
   "outputs": [],
   "source": []
  }
 ],
 "metadata": {
  "kernelspec": {
   "display_name": "Python 3 (ipykernel)",
   "language": "python",
   "name": "python3"
  },
  "language_info": {
   "codemirror_mode": {
    "name": "ipython",
    "version": 3
   },
   "file_extension": ".py",
   "mimetype": "text/x-python",
   "name": "python",
   "nbconvert_exporter": "python",
   "pygments_lexer": "ipython3",
   "version": "3.10.12"
  }
 },
 "nbformat": 4,
 "nbformat_minor": 5
}
