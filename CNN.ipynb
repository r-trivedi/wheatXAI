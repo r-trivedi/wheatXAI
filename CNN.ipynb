{
 "cells": [
  {
   "cell_type": "code",
   "execution_count": 1,
   "id": "7bb56c95-96ac-477e-a2a5-b05e228c371a",
   "metadata": {},
   "outputs": [],
   "source": [
    "import os\n",
    "import numpy as np\n",
    "import pandas as pd\n",
    "import cv2\n",
    "from tensorflow import keras\n",
    "from tensorflow.keras import layers\n",
    "from sklearn.model_selection import train_test_split\n",
    "from sklearn.metrics import r2_score, mean_squared_error"
   ]
  },
  {
   "cell_type": "code",
   "execution_count": 2,
   "id": "e549d9ef-f9c3-40c4-b422-c2d4b66db1c9",
   "metadata": {},
   "outputs": [
    {
     "data": {
      "text/plain": [
       "numpy.float64"
      ]
     },
     "execution_count": 2,
     "metadata": {},
     "output_type": "execute_result"
    }
   ],
   "source": [
    "# --- Load CSV ---\n",
    "csv_path = \"/scratch/pawsey1157/rtrivedi/dataset/Phenotypes/Images_GIDs_GRYLD.csv\"\n",
    "npy_dir = \"/scratch/pawsey1157/rtrivedi/dataset/Phenotypes/stacked_npy/\"\n",
    "data_df = pd.read_csv(csv_path, header=None, names=['filename', 'GID', 'GRYLD'])\n",
    "\n",
    "type((data_df.loc[1, 'GRYLD']))\n",
    "#type(row['GRYLD'])"
   ]
  },
  {
   "cell_type": "code",
   "execution_count": 3,
   "id": "80bacc16-c316-4a3b-b08e-8b3a156bb650",
   "metadata": {},
   "outputs": [],
   "source": [
    "# --- Load all .npy images into X, yield into Y ---\n",
    "X = []\n",
    "Y = []"
   ]
  },
  {
   "cell_type": "code",
   "execution_count": 4,
   "id": "488578f9-d90c-4e91-8684-d07042453e6b",
   "metadata": {},
   "outputs": [],
   "source": [
    "# Define target size (width, height)\n",
    "target_size = (61, 145)  # (width, height)\n",
    "\n",
    "# Function to resize each band\n",
    "def resize_multiband(img, target_size):\n",
    "    bands = []\n",
    "    for i in range(img.shape[2]):  # loop over bands (8)\n",
    "        band_resized = cv2.resize(img[:, :, i], target_size, interpolation=cv2.INTER_AREA)\n",
    "        bands.append(band_resized)\n",
    "    return np.stack(bands, axis=-1)"
   ]
  },
  {
   "cell_type": "code",
   "execution_count": 4,
   "id": "a12c46f8-c048-4859-a9d6-7109e524bbaa",
   "metadata": {},
   "outputs": [
    {
     "ename": "NameError",
     "evalue": "name 'batch_df' is not defined",
     "output_type": "error",
     "traceback": [
      "\u001b[0;31m---------------------------------------------------------------------------\u001b[0m",
      "\u001b[0;31mNameError\u001b[0m                                 Traceback (most recent call last)",
      "Cell \u001b[0;32mIn[4], line 1\u001b[0m\n\u001b[0;32m----> 1\u001b[0m \u001b[38;5;28;01mfor\u001b[39;00m _, row \u001b[38;5;129;01min\u001b[39;00m \u001b[43mbatch_df\u001b[49m\u001b[38;5;241m.\u001b[39miterrows():\n\u001b[1;32m      2\u001b[0m     img_path \u001b[38;5;241m=\u001b[39m os\u001b[38;5;241m.\u001b[39mpath\u001b[38;5;241m.\u001b[39mjoin(\u001b[38;5;28mself\u001b[39m\u001b[38;5;241m.\u001b[39mimage_path, row[\u001b[38;5;124m'\u001b[39m\u001b[38;5;124mFilename\u001b[39m\u001b[38;5;124m'\u001b[39m])\n\u001b[1;32m      3\u001b[0m     \u001b[38;5;28;01mtry\u001b[39;00m:\n",
      "\u001b[0;31mNameError\u001b[0m: name 'batch_df' is not defined"
     ]
    }
   ],
   "source": []
  },
  {
   "cell_type": "code",
   "execution_count": 5,
   "id": "f815d87a-ade8-4c5c-bd25-d0f0f1c87ba4",
   "metadata": {},
   "outputs": [],
   "source": [
    "for idx, row in data_df.iterrows():\n",
    "    npy_path = os.path.join(npy_dir, str(data_df.loc[idx, 'filename']))\n",
    "    if os.path.exists(npy_path):\n",
    "        img = np.load(npy_path)\n",
    "        img_resized = resize_multiband(img, target_size)\n",
    "        YLD = ((data_df.loc[idx, 'GRYLD']))\n",
    "        X.append(img_resized)\n",
    "        Y.append(YLD)\n",
    "    else:\n",
    "        print(f\"Warning: {npy_path} not found, skipping.\")"
   ]
  },
  {
   "cell_type": "code",
   "execution_count": 6,
   "id": "6e442828-4319-4e2b-8f79-75a7744a7653",
   "metadata": {},
   "outputs": [
    {
     "data": {
      "text/plain": [
       "numpy.float64"
      ]
     },
     "execution_count": 6,
     "metadata": {},
     "output_type": "execute_result"
    }
   ],
   "source": [
    "type(YLD)\n",
    "#for i, img in enumerate(X):\n",
    "#    print(f\"Image {i} shape: {img.shape}\")"
   ]
  },
  {
   "cell_type": "code",
   "execution_count": 7,
   "id": "a40968f3-0cf8-4fdd-8fb8-ae6e6051debe",
   "metadata": {},
   "outputs": [
    {
     "name": "stdout",
     "output_type": "stream",
     "text": [
      "Loaded data shape: (85855, 145, 61, 8)\n",
      "Yield shape: (85855,)\n"
     ]
    }
   ],
   "source": [
    "X = np.array(X)\n",
    "Y = np.array(Y)\n",
    "\n",
    "print(\"Loaded data shape:\", X.shape)  # (samples, height, width, bands)\n",
    "print(\"Yield shape:\", Y.shape)\n"
   ]
  },
  {
   "cell_type": "code",
   "execution_count": 7,
   "id": "d4919edd-ef3c-4a90-85a4-41d8bc3ceef8",
   "metadata": {},
   "outputs": [
    {
     "name": "stdout",
     "output_type": "stream",
     "text": [
      "Any NaNs in X? False\n",
      "Any infinities in X? False\n",
      "X min/max: -0.8261975 3.6003518\n",
      "Any NaNs in Y? False\n",
      "Y min/max: 0.861 10.192\n"
     ]
    }
   ],
   "source": [
    "#print(\"Any NaNs in X?\", np.isnan(X).any())\n",
    "#print(\"Any infinities in X?\", np.isinf(X).any())\n",
    "#print(\"X min/max:\", np.min(X), np.max(X))\n",
    "\n",
    "#print(\"Any NaNs in Y?\", np.isnan(Y).any())\n",
    "#print(\"Y min/max:\", np.min(Y), np.max(Y))"
   ]
  },
  {
   "cell_type": "code",
   "execution_count": 8,
   "id": "ccb74e9d-b0c9-4dea-a9e2-a451fb8d5cd9",
   "metadata": {},
   "outputs": [
    {
     "name": "stdout",
     "output_type": "stream",
     "text": [
      "Model: \"sequential\"\n",
      "_________________________________________________________________\n",
      " Layer (type)                Output Shape              Param #   \n",
      "=================================================================\n",
      " conv2d (Conv2D)             (None, 145, 61, 32)       2336      \n",
      "                                                                 \n",
      " max_pooling2d (MaxPooling2D  (None, 72, 30, 32)       0         \n",
      " )                                                               \n",
      "                                                                 \n",
      " conv2d_1 (Conv2D)           (None, 72, 30, 64)        18496     \n",
      "                                                                 \n",
      " max_pooling2d_1 (MaxPooling  (None, 36, 15, 64)       0         \n",
      " 2D)                                                             \n",
      "                                                                 \n",
      " conv2d_2 (Conv2D)           (None, 36, 15, 128)       73856     \n",
      "                                                                 \n",
      " max_pooling2d_2 (MaxPooling  (None, 18, 7, 128)       0         \n",
      " 2D)                                                             \n",
      "                                                                 \n",
      " flatten (Flatten)           (None, 16128)             0         \n",
      "                                                                 \n",
      " dense (Dense)               (None, 128)               2064512   \n",
      "                                                                 \n",
      " dropout (Dropout)           (None, 128)               0         \n",
      "                                                                 \n",
      " dense_1 (Dense)             (None, 1)                 129       \n",
      "                                                                 \n",
      "=================================================================\n",
      "Total params: 2,159,329\n",
      "Trainable params: 2,159,329\n",
      "Non-trainable params: 0\n",
      "_________________________________________________________________\n",
      "Epoch 1/50\n",
      "3435/3435 [==============================] - 161s 47ms/step - loss: 1.0801 - mae: 0.8169 - val_loss: 0.4043 - val_mae: 0.4959\n",
      "Epoch 2/50\n",
      "3435/3435 [==============================] - 144s 42ms/step - loss: 0.8077 - mae: 0.7122 - val_loss: 0.3492 - val_mae: 0.4600\n",
      "Epoch 3/50\n",
      "3435/3435 [==============================] - 139s 40ms/step - loss: 0.6766 - mae: 0.6495 - val_loss: 0.3794 - val_mae: 0.4783\n",
      "Epoch 4/50\n",
      "3435/3435 [==============================] - 140s 41ms/step - loss: 0.5662 - mae: 0.5928 - val_loss: 0.3664 - val_mae: 0.4767\n",
      "Epoch 5/50\n",
      "3435/3435 [==============================] - 140s 41ms/step - loss: 0.4802 - mae: 0.5456 - val_loss: 0.2726 - val_mae: 0.4045\n",
      "Epoch 6/50\n",
      "3435/3435 [==============================] - 139s 40ms/step - loss: 0.4039 - mae: 0.4993 - val_loss: 0.3430 - val_mae: 0.4612\n",
      "Epoch 7/50\n",
      "3435/3435 [==============================] - 139s 40ms/step - loss: 0.3362 - mae: 0.4558 - val_loss: 0.2606 - val_mae: 0.3958\n",
      "Epoch 8/50\n",
      "3435/3435 [==============================] - 140s 41ms/step - loss: 0.2862 - mae: 0.4185 - val_loss: 0.2515 - val_mae: 0.3896\n",
      "Epoch 9/50\n",
      "3435/3435 [==============================] - 142s 41ms/step - loss: 0.2472 - mae: 0.3874 - val_loss: 0.2261 - val_mae: 0.3667\n",
      "Epoch 10/50\n",
      "3435/3435 [==============================] - 145s 42ms/step - loss: 0.2166 - mae: 0.3613 - val_loss: 0.2206 - val_mae: 0.3622\n",
      "Epoch 11/50\n",
      "3435/3435 [==============================] - 143s 42ms/step - loss: 0.1981 - mae: 0.3433 - val_loss: 0.2110 - val_mae: 0.3549\n",
      "Epoch 12/50\n",
      "3435/3435 [==============================] - 142s 41ms/step - loss: 0.1836 - mae: 0.3292 - val_loss: 0.2065 - val_mae: 0.3496\n",
      "Epoch 13/50\n",
      "3435/3435 [==============================] - 143s 42ms/step - loss: 0.1752 - mae: 0.3203 - val_loss: 0.1972 - val_mae: 0.3399\n",
      "Epoch 14/50\n",
      "3435/3435 [==============================] - 140s 41ms/step - loss: 0.1628 - mae: 0.3094 - val_loss: 0.1966 - val_mae: 0.3387\n",
      "Epoch 15/50\n",
      "3435/3435 [==============================] - 141s 41ms/step - loss: 0.1524 - mae: 0.2989 - val_loss: 0.2006 - val_mae: 0.3416\n",
      "Epoch 16/50\n",
      "3435/3435 [==============================] - 141s 41ms/step - loss: 0.1436 - mae: 0.2909 - val_loss: 0.1884 - val_mae: 0.3301\n",
      "Epoch 17/50\n",
      "3435/3435 [==============================] - 140s 41ms/step - loss: 0.1379 - mae: 0.2828 - val_loss: 0.1903 - val_mae: 0.3338\n",
      "Epoch 18/50\n",
      "3435/3435 [==============================] - 142s 41ms/step - loss: 0.1290 - mae: 0.2756 - val_loss: 0.1951 - val_mae: 0.3399\n",
      "Epoch 19/50\n",
      "3435/3435 [==============================] - 140s 41ms/step - loss: 0.1235 - mae: 0.2702 - val_loss: 0.1852 - val_mae: 0.3294\n",
      "Epoch 20/50\n",
      "3435/3435 [==============================] - 141s 41ms/step - loss: 0.1177 - mae: 0.2621 - val_loss: 0.1842 - val_mae: 0.3292\n",
      "Epoch 21/50\n",
      "3435/3435 [==============================] - 142s 41ms/step - loss: 0.1129 - mae: 0.2572 - val_loss: 0.1898 - val_mae: 0.3352\n",
      "Epoch 22/50\n",
      "3435/3435 [==============================] - 143s 42ms/step - loss: 0.1080 - mae: 0.2508 - val_loss: 0.1799 - val_mae: 0.3233\n",
      "Epoch 23/50\n",
      "3435/3435 [==============================] - 141s 41ms/step - loss: 0.1061 - mae: 0.2482 - val_loss: 0.1850 - val_mae: 0.3294\n",
      "Epoch 24/50\n",
      "3435/3435 [==============================] - 139s 41ms/step - loss: 0.1023 - mae: 0.2438 - val_loss: 0.1819 - val_mae: 0.3256\n",
      "Epoch 25/50\n",
      "3435/3435 [==============================] - 141s 41ms/step - loss: 0.0982 - mae: 0.2395 - val_loss: 0.1837 - val_mae: 0.3259\n",
      "Epoch 26/50\n",
      "3435/3435 [==============================] - 141s 41ms/step - loss: 0.0970 - mae: 0.2365 - val_loss: 0.1816 - val_mae: 0.3248\n",
      "Epoch 27/50\n",
      "3435/3435 [==============================] - 142s 41ms/step - loss: 0.0939 - mae: 0.2328 - val_loss: 0.1725 - val_mae: 0.3151\n",
      "Epoch 28/50\n",
      "3435/3435 [==============================] - 141s 41ms/step - loss: 0.0936 - mae: 0.2310 - val_loss: 0.1719 - val_mae: 0.3151\n",
      "Epoch 29/50\n",
      "3435/3435 [==============================] - 143s 42ms/step - loss: 0.0912 - mae: 0.2280 - val_loss: 0.1686 - val_mae: 0.3102\n",
      "Epoch 30/50\n",
      "3435/3435 [==============================] - 143s 42ms/step - loss: 0.0882 - mae: 0.2244 - val_loss: 0.1725 - val_mae: 0.3135\n",
      "Epoch 31/50\n",
      "3435/3435 [==============================] - 140s 41ms/step - loss: 0.0862 - mae: 0.2231 - val_loss: 0.1743 - val_mae: 0.3156\n",
      "Epoch 32/50\n",
      "3435/3435 [==============================] - 141s 41ms/step - loss: 0.0837 - mae: 0.2193 - val_loss: 0.1683 - val_mae: 0.3098\n",
      "Epoch 33/50\n",
      "3435/3435 [==============================] - 141s 41ms/step - loss: 0.0829 - mae: 0.2180 - val_loss: 0.1666 - val_mae: 0.3099\n",
      "Epoch 34/50\n",
      "3435/3435 [==============================] - 140s 41ms/step - loss: 0.0822 - mae: 0.2156 - val_loss: 0.1708 - val_mae: 0.3137\n",
      "Epoch 35/50\n",
      "3435/3435 [==============================] - 141s 41ms/step - loss: 0.0813 - mae: 0.2142 - val_loss: 0.1742 - val_mae: 0.3158\n",
      "Epoch 36/50\n",
      "3435/3435 [==============================] - 141s 41ms/step - loss: 0.0809 - mae: 0.2134 - val_loss: 0.1662 - val_mae: 0.3078\n",
      "Epoch 37/50\n",
      "3435/3435 [==============================] - 143s 42ms/step - loss: 0.0786 - mae: 0.2113 - val_loss: 0.1669 - val_mae: 0.3078\n",
      "Epoch 38/50\n",
      "3435/3435 [==============================] - 140s 41ms/step - loss: 0.0778 - mae: 0.2093 - val_loss: 0.1698 - val_mae: 0.3112\n",
      "Epoch 39/50\n",
      "3435/3435 [==============================] - 142s 41ms/step - loss: 0.0758 - mae: 0.2072 - val_loss: 0.1798 - val_mae: 0.3216\n",
      "Epoch 40/50\n",
      "3435/3435 [==============================] - 142s 41ms/step - loss: 0.0758 - mae: 0.2072 - val_loss: 0.1632 - val_mae: 0.3051\n",
      "Epoch 41/50\n",
      "3435/3435 [==============================] - 140s 41ms/step - loss: 0.0733 - mae: 0.2036 - val_loss: 0.1621 - val_mae: 0.3022\n",
      "Epoch 42/50\n",
      "3435/3435 [==============================] - 139s 41ms/step - loss: 0.0738 - mae: 0.2040 - val_loss: 0.1652 - val_mae: 0.3069\n",
      "Epoch 43/50\n",
      "3435/3435 [==============================] - 143s 42ms/step - loss: 0.0734 - mae: 0.2033 - val_loss: 0.1615 - val_mae: 0.3025\n",
      "Epoch 44/50\n",
      "3435/3435 [==============================] - 144s 42ms/step - loss: 0.0713 - mae: 0.2005 - val_loss: 0.1706 - val_mae: 0.3108\n",
      "Epoch 45/50\n",
      "3435/3435 [==============================] - 143s 42ms/step - loss: 0.0728 - mae: 0.2014 - val_loss: 0.1667 - val_mae: 0.3077\n",
      "Epoch 46/50\n",
      "3435/3435 [==============================] - 145s 42ms/step - loss: 0.0706 - mae: 0.1988 - val_loss: 0.1698 - val_mae: 0.3106\n",
      "Epoch 47/50\n",
      "3435/3435 [==============================] - 143s 42ms/step - loss: 0.0706 - mae: 0.1992 - val_loss: 0.1635 - val_mae: 0.3043\n",
      "Epoch 48/50\n",
      "3435/3435 [==============================] - 140s 41ms/step - loss: 0.0709 - mae: 0.1984 - val_loss: 0.1620 - val_mae: 0.3025\n",
      "Epoch 49/50\n",
      "3435/3435 [==============================] - 140s 41ms/step - loss: 0.0702 - mae: 0.1976 - val_loss: 0.1645 - val_mae: 0.3054\n",
      "Epoch 50/50\n",
      "3435/3435 [==============================] - 141s 41ms/step - loss: 0.0688 - mae: 0.1967 - val_loss: 0.1614 - val_mae: 0.3021\n"
     ]
    }
   ],
   "source": [
    "# --- Train-test split ---\n",
    "X_train, X_test, Y_train, Y_test = train_test_split(X, Y, test_size=0.2, random_state=42)\n",
    "\n",
    "# --- Build CNN model ---\n",
    "input_shape = X_train.shape[1:]  # (height, width, bands)\n",
    "\n",
    "model = keras.Sequential([\n",
    "    layers.Input(shape=input_shape),\n",
    "    \n",
    "    layers.Conv2D(32, (3, 3), activation='relu', padding='same'),\n",
    "    layers.MaxPooling2D((2, 2)),\n",
    "    \n",
    "    layers.Conv2D(64, (3, 3), activation='relu', padding='same'),\n",
    "    layers.MaxPooling2D((2, 2)),\n",
    "    \n",
    "    layers.Conv2D(128, (3, 3), activation='relu', padding='same'),\n",
    "    layers.MaxPooling2D((2, 2)),\n",
    "    \n",
    "    layers.Flatten(),\n",
    "    layers.Dense(128, activation='relu'),\n",
    "    layers.Dropout(0.3),\n",
    "    layers.Dense(1)  # Single regression output for grain yield\n",
    "])\n",
    "\n",
    "model.compile(optimizer='adam', loss='mse', metrics=['mae'])\n",
    "\n",
    "model.summary()\n",
    "\n",
    "# --- Train model ---\n",
    "history = model.fit(X_train, Y_train, epochs=50, batch_size=16, validation_split=0.2)"
   ]
  },
  {
   "cell_type": "code",
   "execution_count": 9,
   "id": "b24e33fc-fa6a-47fc-aa58-6eb9499587aa",
   "metadata": {},
   "outputs": [
    {
     "name": "stdout",
     "output_type": "stream",
     "text": [
      "537/537 [==============================] - 5s 10ms/step - loss: 0.1620 - mae: 0.3040\n",
      "Test MAE: 0.3040\n"
     ]
    }
   ],
   "source": [
    "# --- Evaluate ---\n",
    "test_loss, test_mae = model.evaluate(X_test, Y_test)\n",
    "print(f\"Test MAE: {test_mae:.4f}\")\n",
    "\n"
   ]
  },
  {
   "cell_type": "code",
   "execution_count": 10,
   "id": "796f8d3e-de10-4a68-a67e-51dfbc1bfc02",
   "metadata": {},
   "outputs": [
    {
     "name": "stdout",
     "output_type": "stream",
     "text": [
      "537/537 [==============================] - 7s 13ms/step\n",
      "R²: 0.698, RMSE: 0.403\n"
     ]
    }
   ],
   "source": [
    "# --- Predict + check R² ---\n",
    "Y_pred = model.predict(X_test).flatten()\n",
    "r2 = r2_score(Y_test, Y_pred)\n",
    "rmse = np.sqrt(mean_squared_error(Y_test, Y_pred))\n",
    "\n",
    "print(f\"R²: {r2:.3f}, RMSE: {rmse:.3f}\")"
   ]
  },
  {
   "cell_type": "code",
   "execution_count": 11,
   "id": "544f332a-dfc3-46a4-9ebc-da1eb98b50ed",
   "metadata": {},
   "outputs": [],
   "source": [
    "model.save('CNN.h5')"
   ]
  },
  {
   "cell_type": "code",
   "execution_count": null,
   "id": "2a5cb8a0-fbd8-4bbd-bd5c-689dac2ce3ea",
   "metadata": {},
   "outputs": [],
   "source": []
  }
 ],
 "metadata": {
  "kernelspec": {
   "display_name": "Python 3 (ipykernel)",
   "language": "python",
   "name": "python3"
  },
  "language_info": {
   "codemirror_mode": {
    "name": "ipython",
    "version": 3
   },
   "file_extension": ".py",
   "mimetype": "text/x-python",
   "name": "python",
   "nbconvert_exporter": "python",
   "pygments_lexer": "ipython3",
   "version": "3.10.12"
  }
 },
 "nbformat": 4,
 "nbformat_minor": 5
}
